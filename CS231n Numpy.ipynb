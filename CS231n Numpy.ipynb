{
 "cells": [
  {
   "cell_type": "markdown",
   "metadata": {},
   "source": [
    "# Numpy\n",
    "Numpy는 파이썬이 계산과학분야에 이용될 때 핵심 역할을 하는 라이브러리이다. Numpy는 고성능의 다차원 배열 객체와 이를 다룰 도구를 제공한다.\n",
    "## 배열\n",
    "Numpy 배열은 동일한 자료형을 가지는 값들이 격자판 형태로 있는 것이다. 각각의 값들은 튜플(이때 튜플은 양의 정수만을 요소값으로 갖습니다.) 형태로 색인된다. rank는 배열이 몇 차원인지를 의미하고 shape는 는 각 차원의 크기를 알려주는 정수들이 모인 튜플이다.\n",
    "\n",
    "파이썬의 리스트를 중첩해 Numpy 배열을 초기화 할 수 있고, 대괄호를 통해 각 요소에 접근할 수 있다:"
   ]
  },
  {
   "cell_type": "code",
   "execution_count": 4,
   "metadata": {},
   "outputs": [
    {
     "name": "stdout",
     "output_type": "stream",
     "text": [
      "<class 'numpy.ndarray'>\n",
      "(3,)\n",
      "1 2 3\n",
      "[5 2 3]\n",
      "2\n",
      "(2, 3)\n",
      "1 2 4\n"
     ]
    }
   ],
   "source": [
    "import numpy as np\n",
    "\n",
    "a = np.array([1, 2, 3])\n",
    "print (type(a))\n",
    "print (a.shape)\n",
    "print (a[0], a[1], a[2])\n",
    "a[0] = 5\n",
    "print (a)\n",
    "\n",
    "b = np.array([[1,2,3],[4,5,6]])\n",
    "print (b.ndim)    # rank\n",
    "print (b.shape)\n",
    "print (b[0, 0], b[0, 1], b[1, 0])"
   ]
  },
  {
   "cell_type": "markdown",
   "metadata": {},
   "source": [
    "리스트의 중첩이 아니더라도 Numpy는 배열을 만들기 위한 다양한 함수를 제공한다."
   ]
  },
  {
   "cell_type": "code",
   "execution_count": 5,
   "metadata": {},
   "outputs": [
    {
     "name": "stdout",
     "output_type": "stream",
     "text": [
      "[[0. 0.]\n",
      " [0. 0.]]\n",
      "[[1. 1.]]\n",
      "[[7 7]\n",
      " [7 7]]\n",
      "[[1. 0.]\n",
      " [0. 1.]]\n",
      "[[0.53828017 0.21646474]\n",
      " [0.22840968 0.66100717]]\n"
     ]
    }
   ],
   "source": [
    "a = np.zeros((2,2))    # 모든 값이 0인 배열 생성\n",
    "print (a)\n",
    "\n",
    "b = np.ones((1,2))     # 모든 값이 1인 배열 생성\n",
    "print (b)\n",
    "\n",
    "c = np.full((2,2), 7)  # 모든 값이 특정 상수인 배열 생성\n",
    "print (c)\n",
    "\n",
    "d = np.eye(2)          # 2x2 단위행렬 생성\n",
    "print (d)\n",
    "\n",
    "e = np.random.random((2,2)) # 임의의 값으로 채워진 배열 생성\n",
    "print (e)                     "
   ]
  },
  {
   "cell_type": "markdown",
   "metadata": {},
   "source": [
    "## 배열 인덱싱\n",
    "\n",
    "Numpy는 배열을 인덱싱하는 몇 가지 방법을 제공한다.\n",
    "\n",
    "슬라이싱: 파이썬 리스트와 유사하게, Numpy 배열도 슬라이싱이 가능하다. Numpy 배열은 다차원인 경우가 많기에, 각 차원별로 어떻게 슬라이스할건지 명확히 해야 한다:"
   ]
  },
  {
   "cell_type": "code",
   "execution_count": 7,
   "metadata": {},
   "outputs": [
    {
     "name": "stdout",
     "output_type": "stream",
     "text": [
      "2\n",
      "77\n"
     ]
    }
   ],
   "source": [
    "import numpy as np\n",
    "\n",
    "# Create the following rank 2 array with shape (3, 4)\n",
    "# [[ 1  2  3  4]\n",
    "#  [ 5  6  7  8]\n",
    "#  [ 9 10 11 12]]\n",
    "a = np.array([[1,2,3,4], [5,6,7,8], [9,10,11,12]])\n",
    "\n",
    "# 슬라이싱을 이용하여 첫 두 행과 1열, 2열로 이루어진 부분배열을 만들어 보자;\n",
    "# b는 shape가 (2,2)인 배열이 된다:\n",
    "# [[2 3]\n",
    "#  [6 7]]\n",
    "b = a[:2, 1:3]\n",
    "\n",
    "# 슬라이싱된 배열은 원본 배열과 같은 데이터를 참조한다, \n",
    "# 즉 슬라이싱된 배열을 수정하면 원본 배열 역시 수정된다.\n",
    "print (a[0, 1])   # 출력 \"2\"\n",
    "b[0, 0] = 77      # b[0, 0]은 a[0, 1]과 같은 데이터\n",
    "print (a[0, 1])   # 출력 \"77\""
   ]
  },
  {
   "cell_type": "markdown",
   "metadata": {},
   "source": [
    "**정수 배열 인덱싱**: Numpy 배열을 슬라이싱하면, 결과로 얻어지는 배열은 언제나 원본 배열의 부분 배열이다. 그러나 정수 배열 인덱싱을 한다면, 원본과 다른 배열을 만들 수 있다. 예시:"
   ]
  },
  {
   "cell_type": "code",
   "execution_count": 13,
   "metadata": {},
   "outputs": [
    {
     "name": "stdout",
     "output_type": "stream",
     "text": [
      "[1 4 5]\n",
      "[1 4 5]\n",
      "[2 2]\n",
      "[2 2]\n"
     ]
    }
   ],
   "source": [
    "import numpy as np\n",
    "\n",
    "a = np.array([[1,2], [3, 4], [5, 6]])\n",
    "\n",
    "# 정수 배열 인덱싱의 예.\n",
    "# 반환되는 배열의 shape는 (3,)\n",
    "print (a[[0, 1, 2], [0, 1, 0]])  # 출력 \"[1 4 5]\"\n",
    "\n",
    "# 위에서 본 정수 배열 인덱싱 예제는 다음과 동일하다:\n",
    "print (np.array([a[0, 0], a[1, 1], a[2, 0]]))  # 출력 \"[1 4 5]\"\n",
    "\n",
    "# 정수 배열 인덱싱을 사용할 때,\n",
    "# 원본 배열의 같은 요소를 재사용할 수 있다:\n",
    "print (a[[0, 0], [1, 1]])  # 출력 \"[2 2]\"\n",
    "\n",
    "# 위 예제는 다음과 동일하다\n",
    "print (np.array([a[0, 1], a[0, 1]]))  # 출력 \"[2 2]\""
   ]
  },
  {
   "cell_type": "markdown",
   "metadata": {},
   "source": [
    "정수 배열 인덱싱을 유용하게 사용하는 방법 중 하나는 행렬의 각 행에서 하나의 요소를 선택하거나 바꾸는 것이다:"
   ]
  },
  {
   "cell_type": "code",
   "execution_count": 10,
   "metadata": {},
   "outputs": [
    {
     "name": "stdout",
     "output_type": "stream",
     "text": [
      "[[ 1  2  3]\n",
      " [ 4  5  6]\n",
      " [ 7  8  9]\n",
      " [10 11 12]]\n",
      "[ 1  6  7 11]\n",
      "[[11  2  3]\n",
      " [ 4  5 16]\n",
      " [17  8  9]\n",
      " [10 21 12]]\n"
     ]
    }
   ],
   "source": [
    "import numpy as np\n",
    "\n",
    "# 요소를 선택할 새로운 배열 생성\n",
    "a = np.array([[1,2,3], [4,5,6], [7,8,9], [10, 11, 12]])\n",
    "\n",
    "print (a)  # 출력 \"array([[ 1,  2,  3],\n",
    "           #             [ 4,  5,  6],\n",
    "           #             [ 7,  8,  9],\n",
    "           #             [10, 11, 12]])\"\n",
    "\n",
    "# 인덱스를 저장할 배열 생성\n",
    "b = np.array([0, 2, 0, 1])\n",
    "\n",
    "\n",
    "# b에 저장된 인덱스를 이용해 각 행에서 하나의 요소를 선택한다\n",
    "print (a[np.arange(4), b])  # 출력 \"[ 1  6  7 11]\"\n",
    "\n",
    "# b에 저장된 인덱스를 이용해 각 행에서 하나의 요소를 변경한다\n",
    "a[np.arange(4), b] += 10\n",
    "\n",
    "print (a)  # 출력 \"array([[11,  2,  3],\n",
    "           #             [ 4,  5, 16],\n",
    "           #             [17,  8,  9],\n",
    "           #             [10, 21, 12]])"
   ]
  },
  {
   "cell_type": "markdown",
   "metadata": {},
   "source": [
    "**불리언 배열 인덱싱**: 불리언 배열 인덱싱을 통해 배열 속 요소를 취사선택할 수 있다. 불리언 배열 인덱싱은 특정 조건을 만족하게 하는 요소만 선택하고자 할 때 자주 사용된다. 예시:"
   ]
  },
  {
   "cell_type": "code",
   "execution_count": 14,
   "metadata": {},
   "outputs": [
    {
     "name": "stdout",
     "output_type": "stream",
     "text": [
      "[[False False]\n",
      " [ True  True]\n",
      " [ True  True]]\n",
      "[3 4 5 6]\n",
      "[3 4 5 6]\n"
     ]
    }
   ],
   "source": [
    "import numpy as np\n",
    "\n",
    "a = np.array([[1,2], [3, 4], [5, 6]])\n",
    "\n",
    "bool_idx = (a > 2)  # 2보다 큰 a의 요소를 찾는다;\n",
    "                    # 이 코드는 a와 shape가 같고 불리언 자료형을 요소로 하는 numpy 배열을 반환합니다,\n",
    "                    # bool_idx의 각 요소는 동일한 위치에 있는 a의\n",
    "                    # 요소가 2보다 큰지를 말해준다.\n",
    "\n",
    "print (bool_idx)    # 출력 \"[[False False]\n",
    "                    #       [ True  True]\n",
    "                    #       [ True  True]]\"\n",
    "\n",
    "# 불리언 배열 인덱싱을 통해 bool_idx에서\n",
    "# 참 값을 가지는 요소로 구성되는 rank 1인 배열을 구성할 수 있다.\n",
    "print (a[bool_idx])  # 출력 \"[3 4 5 6]\"\n",
    "\n",
    "# 위에서 한 모든것을 한 문장으로 할 수 있다:\n",
    "print (a[a > 2])     # 출력 \"[3 4 5 6]\""
   ]
  },
  {
   "cell_type": "markdown",
   "metadata": {},
   "source": [
    "## 자료형\n",
    "Numpy 배열은 동일한 자료형을 가지는 값들이 격자판 형태로 있는 것이다. Numpy에선 배열을 구성하는 데 사용할 수 있는 다양한 숫자 자료형을 제공한다. Numpy는 배열이 생성될 때 자료형을 스스로 추측한다, 그러나 배열을 생성할 때 명시적으로 특정 자료형을 지정할 수도 있다. 예시:"
   ]
  },
  {
   "cell_type": "code",
   "execution_count": 15,
   "metadata": {},
   "outputs": [
    {
     "name": "stdout",
     "output_type": "stream",
     "text": [
      "int64\n",
      "float64\n",
      "int64\n"
     ]
    }
   ],
   "source": [
    "import numpy as np\n",
    "\n",
    "x = np.array([1, 2])  # Numpy가 자료형을 추측해서 선택\n",
    "print (x.dtype)         # 출력 \"int64\"\n",
    "\n",
    "x = np.array([1.0, 2.0])  # Numpy가 자료형을 추측해서 선택\n",
    "print (x.dtype)             # 출력 \"float64\"\n",
    "\n",
    "x = np.array([1, 2], dtype=np.int64)  # 특정 자료형을 명시적으로 지정\n",
    "print (x.dtype)"
   ]
  },
  {
   "cell_type": "markdown",
   "metadata": {},
   "source": [
    "## 배열 연산 \n",
    "기본적인 수학함수는 배열의 각 요소별로 동작하며 연산자를 통해 동작하거나 numpy 함수모듈을 통해 동작한다:"
   ]
  },
  {
   "cell_type": "code",
   "execution_count": 16,
   "metadata": {},
   "outputs": [
    {
     "name": "stdout",
     "output_type": "stream",
     "text": [
      "[[ 6.  8.]\n",
      " [10. 12.]]\n",
      "[[ 6.  8.]\n",
      " [10. 12.]]\n",
      "[[-4. -4.]\n",
      " [-4. -4.]]\n",
      "[[-4. -4.]\n",
      " [-4. -4.]]\n",
      "[[ 5. 12.]\n",
      " [21. 32.]]\n",
      "[[ 5. 12.]\n",
      " [21. 32.]]\n",
      "[[0.2        0.33333333]\n",
      " [0.42857143 0.5       ]]\n",
      "[[0.2        0.33333333]\n",
      " [0.42857143 0.5       ]]\n",
      "[[1.         1.41421356]\n",
      " [1.73205081 2.        ]]\n"
     ]
    }
   ],
   "source": [
    "import numpy as np\n",
    "\n",
    "x = np.array([[1,2],[3,4]], dtype=np.float64)\n",
    "y = np.array([[5,6],[7,8]], dtype=np.float64)\n",
    "\n",
    "# 요소별 합\n",
    "# [[ 6.0  8.0]\n",
    "#  [10.0 12.0]]\n",
    "print (x + y)\n",
    "print (np.add(x, y))\n",
    "\n",
    "# 요소별 차\n",
    "# [[-4.0 -4.0]\n",
    "#  [-4.0 -4.0]]\n",
    "print (x - y)\n",
    "print (np.subtract(x, y))\n",
    "\n",
    "# 요소별 곱\n",
    "# [[ 5.0 12.0]\n",
    "#  [21.0 32.0]]\n",
    "print (x * y)\n",
    "print (np.multiply(x, y))\n",
    "\n",
    "# 요소별 나눗셈\n",
    "# [[ 0.2         0.33333333]\n",
    "#  [ 0.42857143  0.5       ]]\n",
    "print (x / y)\n",
    "print (np.divide(x, y))\n",
    "\n",
    "# 요소별 제곱근\n",
    "# [[ 1.          1.41421356]\n",
    "#  [ 1.73205081  2.        ]]\n",
    "print (np.sqrt(x))"
   ]
  },
  {
   "cell_type": "markdown",
   "metadata": {},
   "source": [
    "Numpy에선 벡터의 내적, 벡터와 행렬의 곱, 행렬곱을 위해 **‘dot’**함수를 사용한다. ‘dot’은 Numpy 모듈 함수로서도 배열 객체의 인스턴스 메소드로서도 이용 가능한 함수이다:"
   ]
  },
  {
   "cell_type": "code",
   "execution_count": 17,
   "metadata": {},
   "outputs": [
    {
     "name": "stdout",
     "output_type": "stream",
     "text": [
      "219\n",
      "219\n",
      "[29 67]\n",
      "[29 67]\n",
      "[[19 22]\n",
      " [43 50]]\n",
      "[[19 22]\n",
      " [43 50]]\n"
     ]
    }
   ],
   "source": [
    "import numpy as np\n",
    "\n",
    "x = np.array([[1,2],[3,4]])\n",
    "y = np.array([[5,6],[7,8]])\n",
    "\n",
    "v = np.array([9,10])\n",
    "w = np.array([11, 12])\n",
    "\n",
    "# 벡터의 내적; 둘 다 결과는 219\n",
    "print (v.dot(w))\n",
    "print (np.dot(v, w))\n",
    "\n",
    "# 행렬과 벡터의 곱; 둘 다 결과는 rank 1인 배열 [29 67]\n",
    "print (x.dot(v))\n",
    "print (np.dot(x, v))\n",
    "\n",
    "# 행렬곱; 둘 다 결과는 rank 2인 배열\n",
    "# [[19 22]\n",
    "#  [43 50]]\n",
    "print (x.dot(y))\n",
    "print (np.dot(x, y))"
   ]
  },
  {
   "cell_type": "code",
   "execution_count": 19,
   "metadata": {},
   "outputs": [
    {
     "name": "stdout",
     "output_type": "stream",
     "text": [
      "10\n",
      "[4 6]\n",
      "[3 7]\n"
     ]
    }
   ],
   "source": [
    "import numpy as np\n",
    "\n",
    "x = np.array([[1,2],[3,4]])\n",
    "\n",
    "print (np.sum(x))  # 모든 요소를 합한 값을 연산; 출력 \"10\"\n",
    "print (np.sum(x, axis=0))  # 각 열에 대한 합을 연산; 출력 \"[4 6]\"\n",
    "print (np.sum(x, axis=1))  # 각 행에 대한 합을 연산; 출력 \"[3 7]\""
   ]
  },
  {
   "cell_type": "markdown",
   "metadata": {},
   "source": [
    "배열연산을 하지 않더라도, 종종 배열의 모양을 바꾸거나 데이터를 처리해야 할 때가 있다. 가장 간단한 예는 행렬의 주 대각선을 기준으로 대칭되는 요소끼리 뒤바꾸는 것이다; 이를 **전치**라고 하며 행렬을 전치하기 위해선, 간단하게 배열 객체의 **‘T’** 속성(transposed)을 사용하면 된다:"
   ]
  },
  {
   "cell_type": "code",
   "execution_count": 21,
   "metadata": {},
   "outputs": [
    {
     "name": "stdout",
     "output_type": "stream",
     "text": [
      "[[1 2]\n",
      " [3 4]]\n",
      "[[1 3]\n",
      " [2 4]]\n",
      "[1 2 3]\n",
      "[1 2 3]\n"
     ]
    }
   ],
   "source": [
    "import numpy as np\n",
    "\n",
    "x = np.array([[1,2], [3,4]])\n",
    "print (x)    # 출력 \"[[1 2]\n",
    "           #       [3 4]]\"\n",
    "print (x.T)  # 출력 \"[[1 3]\n",
    "           #       [2 4]]\"\n",
    "\n",
    "# rank 1인 배열을 전치할 경우 아무 일도 일어나지 않는다:\n",
    "v = np.array([1,2,3])\n",
    "print (v)    # 출력 \"[1 2 3]\"\n",
    "print (v.T)  # 출력 \"[1 2 3]\""
   ]
  },
  {
   "cell_type": "markdown",
   "metadata": {},
   "source": [
    "## 브로드캐스팅\n",
    "브로트캐스팅은 Numpy에서 shape가 다른 배열 간에도 산술 연산이 가능하게 하는 메커니즘이다. 종종 작은 배열과 큰 배열이 있을 때, 큰 배열을 대상으로 작은 배열을 여러 번 연산하고자 할 때가 있다. 예를 들어, 행렬의 각 행에 상수 벡터를 더하는 걸 생각해보자. 이는 다음과 같은 방식으로 처리될 수 있다:"
   ]
  },
  {
   "cell_type": "code",
   "execution_count": 23,
   "metadata": {},
   "outputs": [
    {
     "name": "stdout",
     "output_type": "stream",
     "text": [
      "[[ 2  2  4]\n",
      " [ 5  5  7]\n",
      " [ 8  8 10]\n",
      " [11 11 13]]\n"
     ]
    }
   ],
   "source": [
    "import numpy as np\n",
    "\n",
    "# 행렬 x의 각 행에 벡터 v를 더한 뒤,\n",
    "# 그 결과를 행렬 y에 저장하고자 한다\n",
    "x = np.array([[1,2,3], [4,5,6], [7,8,9], [10, 11, 12]])\n",
    "v = np.array([1, 0, 1])\n",
    "y = np.empty_like(x)   # x와 동일한 shape를 가지며 비어있는 행렬 생성\n",
    "\n",
    "# 명시적 반복문을 통해 행렬 x의 각 행에 벡터 v를 더하는 방법\n",
    "for i in range(4):\n",
    "    y[i, :] = x[i, :] + v\n",
    "\n",
    "# 이제 y는 다음과 같다.\n",
    "# [[ 2  2  4]\n",
    "#  [ 5  5  7]\n",
    "#  [ 8  8 10]\n",
    "#  [11 11 13]]\n",
    "print (y)"
   ]
  },
  {
   "cell_type": "markdown",
   "metadata": {},
   "source": [
    "위의 방식대로 하면 되는데, ‘x’가 매우 큰 행렬이라면, 파이썬의 명시적 반복문을 이용한 위 코드는 매우 느려질 수 있다. 벡터 ‘v’를 행렬 ‘x’의 각 행에 더하는 것은 ‘v’를 여러 개 복사해 수직으로 쌓은 행렬 ‘vv’를 만들고 이 ‘vv’를 ‘x’에 더하는것과 동일하다. 이 과정을 아래의 코드로 구현할 수 있다:"
   ]
  },
  {
   "cell_type": "code",
   "execution_count": 24,
   "metadata": {},
   "outputs": [
    {
     "name": "stdout",
     "output_type": "stream",
     "text": [
      "[[1 0 1]\n",
      " [1 0 1]\n",
      " [1 0 1]\n",
      " [1 0 1]]\n",
      "[[ 2  2  4]\n",
      " [ 5  5  7]\n",
      " [ 8  8 10]\n",
      " [11 11 13]]\n"
     ]
    }
   ],
   "source": [
    "import numpy as np\n",
    "\n",
    "# 벡터 v를 행렬 x의 각 행에 더한 뒤,\n",
    "# 그 결과를 행렬 y에 저장하고자 합니다\n",
    "x = np.array([[1,2,3], [4,5,6], [7,8,9], [10, 11, 12]])\n",
    "v = np.array([1, 0, 1])\n",
    "vv = np.tile(v, (4, 1))  # v의 복사본 4개를 위로 차곡차곡 쌓은 것이 vv\n",
    "print (vv)               # 출력 \"[[1 0 1]\n",
    "                         #       [1 0 1]\n",
    "                         #       [1 0 1]\n",
    "                         #       [1 0 1]]\"\n",
    "y = x + vv  # x와 vv의 요소별 합\n",
    "print (y)  # 출력 \"[[ 2  2  4\n",
    "           #       [ 5  5  7]\n",
    "           #       [ 8  8 10]\n",
    "           #       [11 11 13]]\""
   ]
  },
  {
   "cell_type": "markdown",
   "metadata": {},
   "source": [
    "Numpy 브로드캐스팅을 이용한다면 이렇게 v의 복사본을 여러 개 만들지 않아도 동일한 연산을 할 수 있다. 아래는 브로드캐스팅을 이용한 예시 코드이다:"
   ]
  },
  {
   "cell_type": "code",
   "execution_count": 25,
   "metadata": {},
   "outputs": [
    {
     "name": "stdout",
     "output_type": "stream",
     "text": [
      "[[ 2  2  4]\n",
      " [ 5  5  7]\n",
      " [ 8  8 10]\n",
      " [11 11 13]]\n"
     ]
    }
   ],
   "source": [
    "import numpy as np\n",
    "\n",
    "# 벡터 v를 행렬 x의 각 행에 더한 뒤,\n",
    "# 그 결과를 행렬 y에 저장하고자 합니다\n",
    "x = np.array([[1,2,3], [4,5,6], [7,8,9], [10, 11, 12]])\n",
    "v = np.array([1, 0, 1])\n",
    "y = x + v  # 브로드캐스팅을 이용하여 v를 x의 각 행에 더하기\n",
    "print (y)  # 출력 \"[[ 2  2  4]\n",
    "           #       [ 5  5  7]\n",
    "           #       [ 8  8 10]\n",
    "           #       [11 11 13]]\""
   ]
  },
  {
   "cell_type": "markdown",
   "metadata": {},
   "source": [
    "x의 shape가 (4, 3)이고 v의 shape가 (3,)라도 브로드캐스팅으로 인해 y = x + v는 문제없이 수행된다; 이때 ‘v’는 ‘v’의 복사본이 차곡차곡 쌓인 shape (4, 3)처럼 간주되어 ‘x’와 동일한 shape가 되며 이들 간의 요소별 덧셈연산이 y에 저장된다.\n",
    "\n",
    "두 배열의 브로드캐스팅은 아래의 규칙을 따른다:\n",
    "\n",
    "1. 두 배열이 동일한 rank를 가지고 있지 않다면, 낮은 rank의 1차원 배열이 높은 rank 배열의 shape로 간주한다.\n",
    "2. 특정 차원에서 두 배열이 동일한 크기를 갖거나, 두 배열 중 하나의 크기가 1이라면 그 두 배열은 특정 차원에서 compatible하다고 여겨진다.\n",
    "3. 두 행렬이 모든 차원에서 compatible하다면, 브로드캐스팅이 가능하다.\n",
    "4. 브로드캐스팅이 이뤄지면, 각 배열 shape의 요소별 최소공배수로 이루어진 shape가 두 배열의 shape로 간주한다.\n",
    "5. 차원에 상관없이 크기가 1인 배열과 1보다 큰 배열이 있을 때, 크기가 1인 배열은 자신의 차원 수만큼 복사되어 쌓인 것처럼 간주한다.\n",
    "\n",
    "브로드캐스팅을 지원하는 함수를 universal functions라고 한다. \n",
    "\n",
    "브로드캐스팅을 응용한 예시들:"
   ]
  },
  {
   "cell_type": "code",
   "execution_count": 28,
   "metadata": {},
   "outputs": [
    {
     "name": "stdout",
     "output_type": "stream",
     "text": [
      "[[ 4  5]\n",
      " [ 8 10]\n",
      " [12 15]]\n",
      "[[2 4 6]\n",
      " [5 7 9]]\n",
      "[[ 5  6  7]\n",
      " [ 9 10 11]]\n",
      "[[ 5  6  7]\n",
      " [ 9 10 11]]\n",
      "[[ 2  4  6]\n",
      " [ 8 10 12]]\n"
     ]
    }
   ],
   "source": [
    "import numpy as np\n",
    "\n",
    "# 벡터의 외적을 계산\n",
    "v = np.array([1,2,3])  # v의 shape는 (3,)\n",
    "w = np.array([4,5])    # w의 shape는 (2,)\n",
    "# 외적을 계산하기 위해, 먼저 v를 shape가 (3,1)인 행벡터로 바꿔야 한다;\n",
    "# 그다음 이것을 w에 맞춰 브로드캐스팅한뒤 결과물로 shape가 (3,2)인 행렬을 얻는다,\n",
    "# 이 행렬은 v와 w 외적의 결과이다:\n",
    "# [[ 4  5]\n",
    "#  [ 8 10]\n",
    "#  [12 15]]\n",
    "print (np.reshape(v, (3, 1)) * w)\n",
    "\n",
    "# 벡터를 행렬의 각 행에 더하기\n",
    "x = np.array([[1,2,3], [4,5,6]])\n",
    "# x는 shape가 (2, 3)이고 v는 shape가 (3,)이므로 \n",
    "# 이 둘을 브로드캐스팅하면 shape가 (2, 3)인 아래와 같은 행렬이 나온다:\n",
    "# [[2 4 6]\n",
    "#  [5 7 9]]\n",
    "print (x + v)\n",
    "\n",
    "# 벡터를 행렬의 각 행에 더하기\n",
    "# x는 shape가 (2, 3)이고 w는 shape가 (2,)이다.\n",
    "# x의 전치행렬은 shape가 (3,2)이며 이는 w와 브로드캐스팅이 가능하고 \n",
    "# 결과로 shape가 (3,2)인 행렬이 생긴다;\n",
    "# 이 행렬을 전치하면 shape가 (2,3)인 행렬이 나오며\n",
    "# 이는 행렬 x의 각 열에 벡터 w을 더한 결과와 동일하다.\n",
    "# [[ 5  6  7]\n",
    "#  [ 9 10 11]]\n",
    "print ((x.T + w).T)\n",
    "\n",
    "# 다른 방법은 w를 shape가 (2,1)인 열벡터로 변환하는 것입니다;\n",
    "# 그런 다음 이를 바로 x에 브로드캐스팅해 더하면\n",
    "# 동일한 결과가 나온다.\n",
    "print (x + np.reshape(w, (2, 1)))\n",
    "\n",
    "# 행렬의 스칼라배:\n",
    "# x 의 shape는 (2, 3)입니다. Numpy는 스칼라를 shape가 ()인 배열로 취급한다;\n",
    "# 그렇기에 스칼라 값은 (2,3) shape로 브로드캐스트 될 수 있고,\n",
    "# 아래와 같은 결과를 만들어낸다:\n",
    "# [[ 2  4  6]\n",
    "#  [ 8 10 12]]\n",
    "print (x * 2)"
   ]
  },
  {
   "cell_type": "code",
   "execution_count": null,
   "metadata": {},
   "outputs": [],
   "source": []
  }
 ],
 "metadata": {
  "kernelspec": {
   "display_name": "Python 3",
   "language": "python",
   "name": "python3"
  },
  "language_info": {
   "codemirror_mode": {
    "name": "ipython",
    "version": 3
   },
   "file_extension": ".py",
   "mimetype": "text/x-python",
   "name": "python",
   "nbconvert_exporter": "python",
   "pygments_lexer": "ipython3",
   "version": "3.7.3"
  }
 },
 "nbformat": 4,
 "nbformat_minor": 2
}
